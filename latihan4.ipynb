{
 "cells": [
  {
   "cell_type": "code",
   "execution_count": 54,
   "id": "525078f2",
   "metadata": {},
   "outputs": [
    {
     "name": "stdout",
     "output_type": "stream",
     "text": [
      "13\n",
      "7\n",
      "30\n",
      "3.3333333333333335\n",
      "1\n",
      "1000\n",
      "3\n"
     ]
    }
   ],
   "source": [
    "a, b = 10, 3\n",
    "\n",
    "#Pertambahan\n",
    "print (a+b)\n",
    "hasil = a+b\n",
    "\n",
    "#Perkurangan\n",
    "print (a-b)\n",
    "hasil = a-b\n",
    "\n",
    "#Perkalian\n",
    "print(a*b)\n",
    "hasil = a*b\n",
    "\n",
    "#Divisi\n",
    "print(a/b)\n",
    "hasil = a/b\n",
    "\n",
    "#Modulus\n",
    "print(a%b)\n",
    "hasil = a%b\n",
    "\n",
    "#Eksponen\n",
    "print(a**b)\n",
    "hasil = a**b\n",
    "\n",
    "#Floor Division\n",
    "print(a//b)\n",
    "hasil = a//b"
   ]
  },
  {
   "cell_type": "code",
   "execution_count": 55,
   "id": "b00a312b",
   "metadata": {},
   "outputs": [
    {
     "name": "stdout",
     "output_type": "stream",
     "text": [
      "a = 10 -> 10\n",
      "a += 5 -> 15\n",
      "a -= 3 -> 12\n",
      "a *= 6 -> 72\n",
      "a /= 8 -> 9.0\n"
     ]
    }
   ],
   "source": [
    "a = 10\n",
    "print ('a = 10 ->', a)\n",
    "\n",
    "a += 5\n",
    "print ('a += 5 ->', a)\n",
    "\n",
    "a -= 3\n",
    "print ('a -= 3 ->', a)\n",
    "\n",
    "a *= 6\n",
    "print ('a *= 6 ->', a)\n",
    "\n",
    "a /= 8\n",
    "print ('a /= 8 ->', a)"
   ]
  },
  {
   "cell_type": "code",
   "execution_count": 28,
   "id": "6caf5503",
   "metadata": {},
   "outputs": [
    {
     "name": "stdout",
     "output_type": "stream",
     "text": [
      "20.5\n"
     ]
    }
   ],
   "source": [
    "a = 5\n",
    "b = 2\n",
    "c = 10\n",
    "d = 20\n",
    "hasil = a*b**2+c/d\n",
    "\n",
    "print (hasil)"
   ]
  },
  {
   "cell_type": "code",
   "execution_count": 34,
   "id": "0ba7629e",
   "metadata": {},
   "outputs": [
    {
     "name": "stdout",
     "output_type": "stream",
     "text": [
      "10 > 5 = True\n",
      "10 < 5 = False\n",
      "10 == 5 = False\n"
     ]
    }
   ],
   "source": [
    "#example\n",
    "a = 10\n",
    "b = 5\n",
    "\n",
    "print (a , b, '=', a > b)\n",
    "print (a, '<', b, '=', a < b)\n",
    "print (a, '==', b, '=', a == b)\n"
   ]
  },
  {
   "cell_type": "code",
   "execution_count": 73,
   "id": "d016a4f7",
   "metadata": {},
   "outputs": [
    {
     "name": "stdout",
     "output_type": "stream",
     "text": [
      "400 = 100 < False\n",
      "10 x 2 = 20 True\n",
      "50 = 10 > True\n",
      "50 x 2 != 100 False\n",
      "2*3*4 >= 24 True\n"
     ]
    }
   ],
   "source": [
    "#latihan\n",
    "\n",
    "print (400, '=', 100, '<', 400 < 100)\n",
    "print ('10 x 2 = 20', 10*2==20)\n",
    "print (50, '=', 10, '>', 50 > 10)\n",
    "print ('50 x 2 != 100', 50*2!=100)\n",
    "print ('2*3*4 >= 24', 2*3*4>=24)"
   ]
  },
  {
   "cell_type": "code",
   "execution_count": 86,
   "id": "37e14d06",
   "metadata": {},
   "outputs": [
    {
     "name": "stdout",
     "output_type": "stream",
     "text": [
      "murah dan diskon = True\n",
      "tidak murah = False\n"
     ]
    }
   ],
   "source": [
    "#latihan\n",
    "\n",
    "murah = True\n",
    "diskon = True\n",
    "tidak_murah = False\n",
    "\n",
    "print (\"murah dan diskon = \" + str(murah and diskon))\n",
    "print (\"tidak murah = \" + str(not tidak and laku))"
   ]
  },
  {
   "cell_type": "code",
   "execution_count": 93,
   "id": "05d36a14",
   "metadata": {},
   "outputs": [
    {
     "name": "stdout",
     "output_type": "stream",
     "text": [
      "a is b : True\n",
      "a is not b : False\n",
      "list_a is list_b : False\n",
      "list_a == list_b : True\n",
      "nama_a is nama_b : True\n",
      "nama_a is not nama_b : False\n"
     ]
    }
   ],
   "source": [
    "a = 5\n",
    "b = 5\n",
    "\n",
    "list_a = [1, 2, 3]\n",
    "list_b = [1, 2, 3]\n",
    "nama_a = 'budi'\n",
    "nama_b = 'budi'\n",
    "\n",
    "#output True\n",
    "print ('a is b :', a is b)\n",
    "#output True\n",
    "print ('a is not b :', a is not b)\n",
    "\n",
    "#output False\n",
    "print ('list_a is list_b :', list_a is list_b)\n",
    "#output True\n",
    "print('list_a == list_b :', list_a == list_b)\n",
    "\n",
    "#output True\n",
    "print ('nama_a is nama_b :', nama_a is nama_b)\n",
    "#output False\n",
    "print ('nama_a is not nama_b :', nama_a is not nama_b)"
   ]
  },
  {
   "cell_type": "code",
   "execution_count": 100,
   "id": "089bd666",
   "metadata": {},
   "outputs": [
    {
     "name": "stdout",
     "output_type": "stream",
     "text": [
      "bahasa_1 is bahasa_2 : False\n",
      "bahasa_1 is not bahasa_2 : True\n"
     ]
    }
   ],
   "source": [
    "#example\n",
    "\n",
    "bahasa_1 = 'Indonesia'\n",
    "bahasa_2 = 'Inggris'\n",
    "\n",
    "#output False\n",
    "print ('bahasa_1 is bahasa_2 :', bahasa_1 is bahasa_2)\n",
    "#output True\n",
    "print ('bahasa_1 is not bahasa_2 :', bahasa_1 is not bahasa_2)"
   ]
  },
  {
   "cell_type": "code",
   "execution_count": 119,
   "id": "bfa4f7cb",
   "metadata": {},
   "outputs": [
    {
     "name": "stdout",
     "output_type": "stream",
     "text": [
      "Apakah 'c' ada di variabel perusahaan? False\n",
      "Apakah 'z' ada di variabel perusahaan? True\n"
     ]
    }
   ],
   "source": [
    "perusahaan = 'Google'\n",
    "list_kota = ['Bandung, Jakarta, Surabaya']\n",
    "\n",
    "mahasiswa = {\n",
    "    'nama':'Aimm',\n",
    "    'asal':'Cibaduyut'\n",
    "}\n",
    "\n",
    "print (\n",
    "    \"Apakah 'c' ada di variabel perusahaan?\", 'c' in perusahaan\n",
    ")\n",
    "print (\n",
    "    \"Apakah 'z' ada di variabel perusahaan?\", 'z' not in perusahaan\n",
    ")"
   ]
  },
  {
   "cell_type": "code",
   "execution_count": 133,
   "id": "77506347",
   "metadata": {},
   "outputs": [
    {
     "name": "stdout",
     "output_type": "stream",
     "text": [
      "00000000\n",
      "00000001\n",
      "00000010\n",
      "00100101\n"
     ]
    },
    {
     "data": {
      "text/plain": [
       "101"
      ]
     },
     "execution_count": 133,
     "metadata": {},
     "output_type": "execute_result"
    }
   ],
   "source": [
    "#biner dari angka 0\n",
    "print(format(0, '08b' ))\n",
    "0\n",
    "\n",
    "#biner dari angka 1\n",
    "print(format(1, '08b' ))\n",
    "1\n",
    "\n",
    "#biner dari angka 2\n",
    "print(format(2, '08b' ))\n",
    "10\n",
    "\n",
    "#biner dari angka 37\n",
    "print(format(37, '08b' ))\n",
    "101\n",
    "\n"
   ]
  },
  {
   "cell_type": "code",
   "execution_count": 143,
   "id": "38227d8f",
   "metadata": {},
   "outputs": [
    {
     "name": "stdout",
     "output_type": "stream",
     "text": [
      "huruf h = 01101000\n",
      "huruf e = 01100101\n",
      "huruf l = 01101100\n",
      "huruf l = 01101100\n",
      "huruf o = 01101111\n"
     ]
    }
   ],
   "source": [
    "#biner dari angka 104\n",
    "print('huruf h =',format(104, '08b'))\n",
    "\n",
    "#biner dari angka 101\n",
    "print('huruf e =',format(101, '08b'))\n",
    "\n",
    "#biner dari angka 108\n",
    "print('huruf l =',format(108, '08b'))\n",
    "\n",
    "#biner dari angka 108\n",
    "print('huruf l =',format(108, '08b'))\n",
    "\n",
    "#biner dari angka 111\n",
    "print('huruf o =',format(111, '08b'))"
   ]
  }
 ],
 "metadata": {
  "kernelspec": {
   "display_name": "Python 3 (ipykernel)",
   "language": "python",
   "name": "python3"
  },
  "language_info": {
   "codemirror_mode": {
    "name": "ipython",
    "version": 3
   },
   "file_extension": ".py",
   "mimetype": "text/x-python",
   "name": "python",
   "nbconvert_exporter": "python",
   "pygments_lexer": "ipython3",
   "version": "3.9.12"
  }
 },
 "nbformat": 4,
 "nbformat_minor": 5
}
